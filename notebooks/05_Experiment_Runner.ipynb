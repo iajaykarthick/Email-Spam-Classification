{
 "cells": [
  {
   "cell_type": "code",
   "execution_count": 1,
   "metadata": {},
   "outputs": [],
   "source": [
    "%load_ext autoreload\n",
    "%autoreload 2"
   ]
  },
  {
   "cell_type": "code",
   "execution_count": 2,
   "metadata": {},
   "outputs": [],
   "source": [
    "import os\n",
    "\n",
    "from src.experiments import Experiment\n",
    "from src.config import EXPERIMENT_DIR"
   ]
  },
  {
   "cell_type": "code",
   "execution_count": 5,
   "metadata": {},
   "outputs": [],
   "source": [
    "exp_config_path = os.path.join(EXPERIMENT_DIR, 'custom_cart_w_best_params', 'config.json')\n",
    "exp = Experiment.from_config(exp_config_path)"
   ]
  },
  {
   "cell_type": "code",
   "execution_count": 6,
   "metadata": {},
   "outputs": [
    {
     "name": "stdout",
     "output_type": "stream",
     "text": [
      "Experiment Configuration saved to /Users/ajaykarthicksenthilkumar/dev/personal/Email-Spam-Classification/experiments/custom_cart_w_best_params/config.json\n",
      "Running experiment custom_cart_w_best_params...\n",
      "Running fold 1...\n",
      "Running fold 2...\n",
      "Running fold 3...\n",
      "Running fold 4...\n",
      "Running fold 5...\n",
      "Experiment custom_cart_w_best_params results: {'accuracy': 0.9115420384270404, 'precision': 0.8915159105210477, 'recall': 0.8832700588457458, 'f1': 0.8870600664842694, 'auc': 0.0, 'average_precision': 0.0, 'confusion_matrix': [[2593, 195], [212, 1601]]}\n",
      "Experiment Results saved to /Users/ajaykarthicksenthilkumar/dev/personal/Email-Spam-Classification/experiments/custom_cart_w_best_params/results.json\n",
      "Experiment custom_cart_w_best_params completed successfully!\n"
     ]
    }
   ],
   "source": [
    "exp.run()"
   ]
  },
  {
   "cell_type": "code",
   "execution_count": 7,
   "metadata": {},
   "outputs": [
    {
     "data": {
      "text/plain": [
       "{'accuracy': 0.9115420384270404,\n",
       " 'precision': 0.8915159105210477,\n",
       " 'recall': 0.8832700588457458,\n",
       " 'f1': 0.8870600664842694,\n",
       " 'auc': 0.0,\n",
       " 'average_precision': 0.0,\n",
       " 'confusion_matrix': [[2593, 195], [212, 1601]]}"
      ]
     },
     "execution_count": 7,
     "metadata": {},
     "output_type": "execute_result"
    }
   ],
   "source": [
    "exp.results"
   ]
  },
  {
   "cell_type": "code",
   "execution_count": null,
   "metadata": {},
   "outputs": [],
   "source": []
  }
 ],
 "metadata": {
  "kernelspec": {
   "display_name": "email_spam_classification",
   "language": "python",
   "name": "python3"
  },
  "language_info": {
   "codemirror_mode": {
    "name": "ipython",
    "version": 3
   },
   "file_extension": ".py",
   "mimetype": "text/x-python",
   "name": "python",
   "nbconvert_exporter": "python",
   "pygments_lexer": "ipython3",
   "version": "3.9.13"
  }
 },
 "nbformat": 4,
 "nbformat_minor": 2
}
