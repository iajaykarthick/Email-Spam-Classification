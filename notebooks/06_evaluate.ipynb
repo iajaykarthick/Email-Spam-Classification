{
 "cells": [
  {
   "cell_type": "code",
   "execution_count": 2,
   "metadata": {},
   "outputs": [
    {
     "name": "stderr",
     "output_type": "stream",
     "text": [
      "[nltk_data] Downloading package punkt to\n",
      "[nltk_data]     /Users/ajaykarthicksenthilkumar/nltk_data...\n",
      "[nltk_data]   Package punkt is already up-to-date!\n"
     ]
    }
   ],
   "source": [
    "from src.features.build_features import extract_features"
   ]
  },
  {
   "cell_type": "code",
   "execution_count": 27,
   "metadata": {},
   "outputs": [],
   "source": [
    "big_spam_email = \"\"\"\n",
    "Subject: CONGRATULATIONS!!! YOU'VE WON!!!\n",
    "\n",
    "Dear Lucky Winner,\n",
    "\n",
    "CONGRATULATIONS!!! You have been selected as the WINNER of our EXCLUSIVE lottery! This is NOT a scam! You've won a CASH PRIZE of $1,000,000!!!\n",
    "\n",
    "To claim your prize, all you need to do is send us your bank account details and we'll transfer the money directly to your account! Don't miss this ONE-TIME opportunity!!!\n",
    "\n",
    "Remember, you must reply within 24 hours to claim your prize. Don't wait, ACT NOW!!!\n",
    "\n",
    "Best Regards,\n",
    "The Lottery Team\n",
    "\"\"\"\n",
    "features_dict = extract_features(text=big_spam_email)\n"
   ]
  },
  {
   "cell_type": "code",
   "execution_count": 28,
   "metadata": {},
   "outputs": [],
   "source": [
    "from src.config import EXPERIMENT_DIR"
   ]
  },
  {
   "cell_type": "code",
   "execution_count": 29,
   "metadata": {},
   "outputs": [],
   "source": [
    "import numpy as np\n",
    "\n",
    "features = np.array([value for key, value in features_dict.items()]).reshape(1, -1)"
   ]
  },
  {
   "cell_type": "code",
   "execution_count": 30,
   "metadata": {},
   "outputs": [
    {
     "name": "stdout",
     "output_type": "stream",
     "text": [
      "[1]\n"
     ]
    }
   ],
   "source": [
    "import os\n",
    "import joblib\n",
    "model_dir = os.path.join(EXPERIMENT_DIR, \"sklearn_cart_w_best_params\")\n",
    "model_path = os.path.join(model_dir, \"model.joblib\")\n",
    "\n",
    "model = joblib.load(model_path)\n",
    "prediction = model.predict(features)\n",
    "print(prediction)"
   ]
  },
  {
   "cell_type": "code",
   "execution_count": null,
   "metadata": {},
   "outputs": [],
   "source": []
  }
 ],
 "metadata": {
  "kernelspec": {
   "display_name": "email_spam_classification",
   "language": "python",
   "name": "python3"
  },
  "language_info": {
   "codemirror_mode": {
    "name": "ipython",
    "version": 3
   },
   "file_extension": ".py",
   "mimetype": "text/x-python",
   "name": "python",
   "nbconvert_exporter": "python",
   "pygments_lexer": "ipython3",
   "version": "3.9.13"
  }
 },
 "nbformat": 4,
 "nbformat_minor": 2
}
