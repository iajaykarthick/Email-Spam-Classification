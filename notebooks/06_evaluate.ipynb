{
 "cells": [
  {
   "cell_type": "code",
   "execution_count": 2,
   "metadata": {},
   "outputs": [
    {
     "name": "stderr",
     "output_type": "stream",
     "text": [
      "[nltk_data] Downloading package punkt to\n",
      "[nltk_data]     /Users/ajaykarthicksenthilkumar/nltk_data...\n",
      "[nltk_data]   Package punkt is already up-to-date!\n"
     ]
    }
   ],
   "source": [
    "from src.features.build_features import extract_features"
   ]
  },
  {
   "cell_type": "code",
   "execution_count": 5,
   "metadata": {},
   "outputs": [],
   "source": [
    "features = extract_features(text=\"CONGRATULATIONS! You have been selected as a winner. Click here to claim your prize.\")\n"
   ]
  },
  {
   "cell_type": "code",
   "execution_count": 6,
   "metadata": {},
   "outputs": [
    {
     "data": {
      "text/plain": [
       "{'word_freq_make': 0,\n",
       " 'word_freq_address': 0,\n",
       " 'word_freq_all': 0,\n",
       " 'word_freq_3d': 0,\n",
       " 'word_freq_our': 0,\n",
       " 'word_freq_over': 0,\n",
       " 'word_freq_remove': 0,\n",
       " 'word_freq_internet': 0,\n",
       " 'word_freq_order': 0,\n",
       " 'word_freq_mail': 0,\n",
       " 'word_freq_receive': 0,\n",
       " 'word_freq_will': 0,\n",
       " 'word_freq_people': 0,\n",
       " 'word_freq_report': 0,\n",
       " 'word_freq_addresses': 0,\n",
       " 'word_freq_free': 0,\n",
       " 'word_freq_business': 0,\n",
       " 'word_freq_email': 0,\n",
       " 'word_freq_you': 0,\n",
       " 'word_freq_credit': 0,\n",
       " 'word_freq_your': 1,\n",
       " 'word_freq_font': 0,\n",
       " 'word_freq_000': 0,\n",
       " 'word_freq_money': 0,\n",
       " 'word_freq_hp': 0,\n",
       " 'word_freq_hpl': 0,\n",
       " 'word_freq_george': 0,\n",
       " 'word_freq_650': 0,\n",
       " 'word_freq_lab': 0,\n",
       " 'word_freq_labs': 0,\n",
       " 'word_freq_telnet': 0,\n",
       " 'word_freq_857': 0,\n",
       " 'word_freq_data': 0,\n",
       " 'word_freq_415': 0,\n",
       " 'word_freq_85': 0,\n",
       " 'word_freq_technology': 0,\n",
       " 'word_freq_1999': 0,\n",
       " 'word_freq_parts': 0,\n",
       " 'word_freq_pm': 0,\n",
       " 'word_freq_direct': 0,\n",
       " 'word_freq_cs': 0,\n",
       " 'word_freq_meeting': 0,\n",
       " 'word_freq_original': 0,\n",
       " 'word_freq_project': 0,\n",
       " 'word_freq_re': 0,\n",
       " 'word_freq_edu': 0,\n",
       " 'word_freq_table': 0,\n",
       " 'word_freq_conference': 0,\n",
       " 'char_freq_;': 0,\n",
       " 'char_freq_(': 0,\n",
       " 'char_freq_[': 0,\n",
       " 'char_freq_!': 1,\n",
       " 'char_freq_$': 0,\n",
       " 'char_freq_#': 0,\n",
       " 'capital_run_length_average': 5.666666666666667,\n",
       " 'capital_run_length_longest': 15,\n",
       " 'capital_run_length_total': 17}"
      ]
     },
     "execution_count": 6,
     "metadata": {},
     "output_type": "execute_result"
    }
   ],
   "source": [
    "features"
   ]
  },
  {
   "cell_type": "code",
   "execution_count": null,
   "metadata": {},
   "outputs": [],
   "source": []
  }
 ],
 "metadata": {
  "kernelspec": {
   "display_name": "email_spam_classification",
   "language": "python",
   "name": "python3"
  },
  "language_info": {
   "codemirror_mode": {
    "name": "ipython",
    "version": 3
   },
   "file_extension": ".py",
   "mimetype": "text/x-python",
   "name": "python",
   "nbconvert_exporter": "python",
   "pygments_lexer": "ipython3",
   "version": "3.9.13"
  }
 },
 "nbformat": 4,
 "nbformat_minor": 2
}
