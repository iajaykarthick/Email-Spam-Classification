{
 "cells": [
  {
   "cell_type": "code",
   "execution_count": 1,
   "metadata": {},
   "outputs": [],
   "source": [
    "%load_ext autoreload\n",
    "%autoreload 2"
   ]
  },
  {
   "cell_type": "code",
   "execution_count": 26,
   "metadata": {},
   "outputs": [],
   "source": [
    "import numpy as np\n",
    "\n",
    "from src.evaluation.classification_metrics import ClassificationMetrics\n",
    "\n",
    "class LogisticRegression:\n",
    "\n",
    "    def __init__(self, solver='lbfgs', max_iter=1000, C=1.0, random_state=None, tol=1e-4, learning_rate=0.01):\n",
    "        self.solver = solver\n",
    "        self.max_iter = max_iter\n",
    "        self.C = C\n",
    "        self.random_state = random_state\n",
    "        self.tol = tol\n",
    "        self.learning_rate = learning_rate\n",
    "        self.coef_ = None\n",
    "        self.intercept_ = None\n",
    "        self.losses_ = []\n",
    "\n",
    "    def _sigmoid(self, z):\n",
    "        z = np.clip(z, -709, 709)  # Avoid overflow\n",
    "        return 1 / (1 + np.exp(-z))\n",
    "\n",
    "    def _lbfgs(self, X, y):\n",
    "        n_samples, n_features = X.shape\n",
    "        self.coef_ = np.zeros(n_features)\n",
    "        self.intercept_ = 0\n",
    "        y = np.squeeze(y)  # Ensure y is 1D array\n",
    "\n",
    "        for _ in range(self.max_iter):\n",
    "            # Forward pass\n",
    "            linear_model = np.dot(X, self.coef_) + self.intercept_\n",
    "            y_predicted = self._sigmoid(linear_model)\n",
    "\n",
    "            # Gradient descent\n",
    "            dw = (1 / n_samples) * np.dot(X.T, (y_predicted - y))\n",
    "            db = (1 / n_samples) * np.sum(y_predicted - y)\n",
    "\n",
    "            # L2 regularization (without applying to the intercept)\n",
    "            dw += (1 / self.C) * self.coef_\n",
    "\n",
    "            # Update weights and bias\n",
    "            self.coef_ -= self.learning_rate * dw\n",
    "            self.intercept_ -= self.learning_rate * db\n",
    "\n",
    "            # Compute loss\n",
    "            loss = self._compute_loss(y, y_predicted, n_samples)\n",
    "            self.losses_.append(loss)\n",
    "\n",
    "            # Early stopping\n",
    "            if len(self.losses_) > 1 and abs(self.losses_[-1] - self.losses_[-2]) < self.tol:\n",
    "                break\n",
    "\n",
    "    def _compute_loss(self, y, y_predicted, n_samples):\n",
    "        epsilon = 1e-15\n",
    "        y_predicted = np.clip(y_predicted, epsilon, 1 - epsilon)  # Avoid division by zero\n",
    "        loss = (-1 / n_samples) * np.sum(y * np.log(y_predicted) + (1 - y) * np.log(1 - y_predicted))\n",
    "        # Add L2 regularization term (not applied to intercept)\n",
    "        return loss + (1 / (2 * self.C)) * np.sum(self.coef_**2)\n",
    "\n",
    "    def fit(self, X, y):\n",
    "        X = np.asarray(X, dtype=np.float64)\n",
    "        y = np.asarray(y, dtype=np.float64).reshape(-1, 1)\n",
    "\n",
    "        if self.solver == 'lbfgs':\n",
    "            self._lbfgs(X, y)\n",
    "        else:\n",
    "            raise ValueError(f\"Solver '{self.solver}' not supported.\")\n",
    "\n",
    "    def predict(self, X):\n",
    "        X = np.asarray(X, dtype=np.float64)\n",
    "        linear_model = np.dot(X, self.coef_) + self.intercept_\n",
    "        probabilities = self._sigmoid(linear_model)\n",
    "        return np.where(probabilities > 0.5, 1, 0).astype(np.int64)\n",
    "\n",
    "    def predict_proba(self, X):\n",
    "        X = np.asarray(X, dtype=np.float64)\n",
    "        linear_model = np.dot(X, self.coef_) + self.intercept_\n",
    "        return self._sigmoid(linear_model)\n",
    "    \n",
    "    \n",
    "    def evaluate(self, X, y):\n",
    "        y_predicted = self.predict(X)\n",
    "        metrics_obj = ClassificationMetrics(y, y_predicted, self.predict_proba(X))\n",
    "        return metrics_obj.get_metrics()\n"
   ]
  },
  {
   "cell_type": "code",
   "execution_count": 27,
   "metadata": {},
   "outputs": [],
   "source": [
    "import numpy as np\n",
    "from src.data.load_dataset import load_spambase\n",
    "\n",
    "from sklearn.model_selection import train_test_split"
   ]
  },
  {
   "cell_type": "code",
   "execution_count": 28,
   "metadata": {},
   "outputs": [
    {
     "data": {
      "text/plain": [
       "((2760, 57), (920, 57), (921, 57))"
      ]
     },
     "execution_count": 28,
     "metadata": {},
     "output_type": "execute_result"
    }
   ],
   "source": [
    "X, y = load_spambase()\n",
    "# Split the dataset into training+validation and test sets\n",
    "X_train_val, X_test, y_train_val, y_test = train_test_split(X, y, test_size=0.2, stratify=y, random_state=42)\n",
    "\n",
    "# Further split the training data into training and validation sets\n",
    "X_train, X_val, y_train, y_val = train_test_split(X_train_val, y_train_val, test_size=0.25, stratify=y_train_val, random_state=42) # 0.25 x 0.8 = 0.2\n",
    "\n",
    "X_train.shape, X_val.shape, X_test.shape"
   ]
  },
  {
   "cell_type": "code",
   "execution_count": 38,
   "metadata": {},
   "outputs": [],
   "source": [
    "log_reg = LogisticRegression(solver='lbfgs', max_iter=500000, C=1.0, random_state=42, tol=1e-4, learning_rate=0.01)\n",
    "log_reg.fit(X, y)"
   ]
  },
  {
   "cell_type": "code",
   "execution_count": 40,
   "metadata": {},
   "outputs": [
    {
     "data": {
      "text/plain": [
       "0.7291893066724625"
      ]
     },
     "execution_count": 40,
     "metadata": {},
     "output_type": "execute_result"
    }
   ],
   "source": [
    "y_pred = log_reg.predict(X)\n",
    "np.mean(y_pred == y)"
   ]
  },
  {
   "cell_type": "code",
   "execution_count": null,
   "metadata": {},
   "outputs": [],
   "source": []
  },
  {
   "cell_type": "code",
   "execution_count": 30,
   "metadata": {},
   "outputs": [
    {
     "data": {
      "text/plain": [
       "0.41925668332971094"
      ]
     },
     "execution_count": 30,
     "metadata": {},
     "output_type": "execute_result"
    }
   ],
   "source": []
  },
  {
   "cell_type": "code",
   "execution_count": null,
   "metadata": {},
   "outputs": [],
   "source": []
  },
  {
   "cell_type": "code",
   "execution_count": null,
   "metadata": {},
   "outputs": [],
   "source": []
  }
 ],
 "metadata": {
  "kernelspec": {
   "display_name": "email_spam_classification",
   "language": "python",
   "name": "python3"
  },
  "language_info": {
   "codemirror_mode": {
    "name": "ipython",
    "version": 3
   },
   "file_extension": ".py",
   "mimetype": "text/x-python",
   "name": "python",
   "nbconvert_exporter": "python",
   "pygments_lexer": "ipython3",
   "version": "3.9.13"
  }
 },
 "nbformat": 4,
 "nbformat_minor": 2
}
