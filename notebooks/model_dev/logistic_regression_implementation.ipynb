{
 "cells": [
  {
   "cell_type": "code",
   "execution_count": 1,
   "metadata": {},
   "outputs": [],
   "source": [
    "%load_ext autoreload\n",
    "%autoreload 2"
   ]
  },
  {
   "cell_type": "code",
   "execution_count": 39,
   "metadata": {},
   "outputs": [
    {
     "name": "stdout",
     "output_type": "stream",
     "text": [
      "Writing ../../src/models/logistic_regression.py\n"
     ]
    }
   ],
   "source": [
    "%%writefile ../../src/models/logistic_regression.py\n",
    "import numpy as np\n",
    "\n",
    "from src.evaluation.classification_metrics import ClassificationMetrics\n",
    "\n",
    "class LogisticRegression:\n",
    "    def __init__(self, learning_rate=0.01, num_iterations=1000, tolerance=1e-4, lambda_reg=0.1):\n",
    "        self.learning_rate = learning_rate\n",
    "        self.num_iterations = num_iterations\n",
    "        self.tolerance = tolerance\n",
    "        self.lambda_reg = lambda_reg\n",
    "\n",
    "    def sigmoid(self, z):\n",
    "        # Clip z to prevent overflow\n",
    "        z = np.clip(z, -250, 250)\n",
    "        return 1 / (1 + np.exp(-z))\n",
    "\n",
    "    def fit(self, X, y):\n",
    "        self.weights = np.zeros(X.shape[1])\n",
    "        self.bias = 0\n",
    "        previous_loss = float('inf')\n",
    "\n",
    "        for i in range(self.num_iterations):\n",
    "            # Calculate predictions\n",
    "            z = np.dot(X, self.weights) + self.bias\n",
    "            predictions = self.sigmoid(z)\n",
    "\n",
    "            # Compute the cost with epsilon to avoid log(0)\n",
    "            epsilon = 1e-5\n",
    "            regularization_term = (self.lambda_reg / (2 * len(y))) * np.sum(np.square(self.weights))\n",
    "            cost = (-1 / len(y)) * np.sum(y * np.log(predictions + epsilon) + (1 - y) * np.log(1 - predictions + epsilon)) + regularization_term\n",
    "\n",
    "            # Check for convergence\n",
    "            if previous_loss - cost < self.tolerance:\n",
    "                print(f\"Convergence reached at iteration {i}.\")\n",
    "                break\n",
    "            previous_loss = cost\n",
    "\n",
    "            # Compute gradients with regularization (excluding bias term from regularization)\n",
    "            dw = (1 / len(y)) * np.dot(X.T, (predictions - y)) + (self.lambda_reg / len(y)) * self.weights\n",
    "            db = (1 / len(y)) * np.sum(predictions - y)\n",
    "\n",
    "            # Update parameters\n",
    "            self.weights -= self.learning_rate * dw\n",
    "            self.bias -= self.learning_rate * db\n",
    "\n",
    "        print(f\"Final loss: {cost}\")\n",
    "\n",
    "    def predict(self, X):\n",
    "        z = np.dot(X, self.weights) + self.bias\n",
    "        predictions = self.sigmoid(z)\n",
    "        return [1 if i > 0.5 else 0 for i in predictions]\n",
    "\n",
    "    def predict_proba(self, X):\n",
    "        z = np.dot(X, self.weights) + self.bias\n",
    "        predictions = self.sigmoid(z)\n",
    "        return predictions"
   ]
  },
  {
   "cell_type": "code",
   "execution_count": 17,
   "metadata": {},
   "outputs": [],
   "source": [
    "import numpy as np\n",
    "from src.data.load_dataset import load_spambase\n",
    "\n",
    "from sklearn.model_selection import train_test_split"
   ]
  },
  {
   "cell_type": "code",
   "execution_count": 18,
   "metadata": {},
   "outputs": [],
   "source": [
    "X, y = load_spambase()\n",
    "\n",
    "X_train, X_test, y_train, y_test = train_test_split(X, y, test_size=0.2, random_state=42)"
   ]
  },
  {
   "cell_type": "code",
   "execution_count": 34,
   "metadata": {},
   "outputs": [
    {
     "name": "stdout",
     "output_type": "stream",
     "text": [
      "Final loss: 0.3882142077655066\n"
     ]
    }
   ],
   "source": [
    "log_reg = LogisticRegression(learning_rate=0.00001, num_iterations=500000, tolerance=1e-8)\n",
    "log_reg.fit(X_train, y_train)"
   ]
  },
  {
   "cell_type": "code",
   "execution_count": 35,
   "metadata": {},
   "outputs": [
    {
     "data": {
      "text/plain": [
       "0.8935939196525515"
      ]
     },
     "execution_count": 35,
     "metadata": {},
     "output_type": "execute_result"
    }
   ],
   "source": [
    "y_pred = log_reg.predict(X_test)\n",
    "accuracy = np.mean(y_pred == y_test)\n",
    "accuracy"
   ]
  },
  {
   "cell_type": "code",
   "execution_count": 36,
   "metadata": {},
   "outputs": [],
   "source": [
    "best_params = {\n",
    "    \"learning_rate\": 0.00001,\n",
    "    \"num_iterations\": 500000,\n",
    "    \"tolerance\": 1e-8,\n",
    "    \"lambda_reg\": 0.1\n",
    "}"
   ]
  },
  {
   "cell_type": "code",
   "execution_count": 37,
   "metadata": {},
   "outputs": [],
   "source": [
    "import os\n",
    "import json\n",
    "\n",
    "from src.config import EXPERIMENT_DIR\n",
    "\n",
    "experiment_config = {\n",
    "    \"name\": \"custom_logistic_regression_w_best_params\",\n",
    "    \"description\": \"Custom logistic regression with best hyperparameters.\",\n",
    "    \"model_class\": \"src.models.random_forest.RandomForestClassifier\",\n",
    "    \"model_params\": best_params,\n",
    "    \"metrics\": [\n",
    "        \"accuracy\",\n",
    "        \"f1\",\n",
    "        \"roc_auc\"\n",
    "    ]\n",
    "}\n",
    "experiment_dir = os.path.join(EXPERIMENT_DIR, 'custom_logistic_regression_w_best_params')\n",
    "os.makedirs(experiment_dir, exist_ok=True)\n",
    "exp_config_path = os.path.join(experiment_dir, 'config.json')\n",
    "with open(exp_config_path, 'w') as file:\n",
    "    json.dump(experiment_config, file, indent=4)    "
   ]
  },
  {
   "cell_type": "code",
   "execution_count": null,
   "metadata": {},
   "outputs": [],
   "source": []
  },
  {
   "cell_type": "code",
   "execution_count": null,
   "metadata": {},
   "outputs": [],
   "source": []
  }
 ],
 "metadata": {
  "kernelspec": {
   "display_name": "email_spam_classification",
   "language": "python",
   "name": "python3"
  },
  "language_info": {
   "codemirror_mode": {
    "name": "ipython",
    "version": 3
   },
   "file_extension": ".py",
   "mimetype": "text/x-python",
   "name": "python",
   "nbconvert_exporter": "python",
   "pygments_lexer": "ipython3",
   "version": "3.9.13"
  }
 },
 "nbformat": 4,
 "nbformat_minor": 2
}
