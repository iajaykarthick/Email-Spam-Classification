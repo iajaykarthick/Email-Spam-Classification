{
 "cells": [
  {
   "cell_type": "code",
   "execution_count": 1,
   "metadata": {},
   "outputs": [],
   "source": [
    "%load_ext autoreload\n",
    "%autoreload 2"
   ]
  },
  {
   "cell_type": "code",
   "execution_count": 31,
   "metadata": {},
   "outputs": [],
   "source": [
    "# Data manipulation\n",
    "import numpy as np\n",
    "import pandas as pd\n",
    "\n",
    "# Visualization\n",
    "import matplotlib.pyplot as plt\n",
    "import seaborn as sns\n",
    "from graphviz import Source\n",
    "\n",
    "# Preprocessing\n",
    "from sklearn.model_selection import train_test_split\n",
    "\n",
    "# Evaluation\n",
    "from sklearn.metrics import accuracy_score\n",
    "\n",
    "# Models\n",
    "from src.models.cart import CART\n",
    "\n",
    "# Load dataset\n",
    "from src.data.load_dataset import load_spambase"
   ]
  },
  {
   "cell_type": "code",
   "execution_count": 28,
   "metadata": {},
   "outputs": [
    {
     "data": {
      "text/plain": [
       "((2760, 57), (920, 57), (921, 57))"
      ]
     },
     "execution_count": 28,
     "metadata": {},
     "output_type": "execute_result"
    }
   ],
   "source": [
    "X, y = load_spambase()\n",
    "# Split the dataset into training+validation and test sets\n",
    "X_train_val, X_test, y_train_val, y_test = train_test_split(X, y, test_size=0.2, stratify=y, random_state=42)\n",
    "\n",
    "# Further split the training data into training and validation sets\n",
    "X_train, X_val, y_train, y_val = train_test_split(X_train_val, y_train_val, test_size=0.25, stratify=y_train_val, random_state=42) # 0.25 x 0.8 = 0.2\n",
    "\n",
    "X_train.shape, X_val.shape, X_test.shape"
   ]
  },
  {
   "cell_type": "markdown",
   "metadata": {},
   "source": [
    "### Train the baseline CART model with raw features"
   ]
  },
  {
   "cell_type": "code",
   "execution_count": 30,
   "metadata": {},
   "outputs": [
    {
     "name": "stdout",
     "output_type": "stream",
     "text": [
      "Finished iteration for max_depth=None, min_samples_split=2, min_impurity_decrease=0, max_features=0.75\n",
      "Finished iteration for max_depth=None, min_samples_split=2, min_impurity_decrease=0.1, max_features=0.75\n",
      "Finished iteration for max_depth=None, min_samples_split=2, min_impurity_decrease=0.2, max_features=0.75\n",
      "Finished iteration for max_depth=None, min_samples_split=5, min_impurity_decrease=0, max_features=0.75\n",
      "Finished iteration for max_depth=None, min_samples_split=5, min_impurity_decrease=0.1, max_features=0.75\n",
      "Finished iteration for max_depth=None, min_samples_split=5, min_impurity_decrease=0.2, max_features=0.75\n",
      "Finished iteration for max_depth=None, min_samples_split=10, min_impurity_decrease=0, max_features=0.75\n",
      "Finished iteration for max_depth=None, min_samples_split=10, min_impurity_decrease=0.1, max_features=0.75\n",
      "Finished iteration for max_depth=None, min_samples_split=10, min_impurity_decrease=0.2, max_features=0.75\n",
      "Finished iteration for max_depth=10, min_samples_split=2, min_impurity_decrease=0, max_features=0.75\n",
      "Finished iteration for max_depth=10, min_samples_split=2, min_impurity_decrease=0.1, max_features=0.75\n",
      "Finished iteration for max_depth=10, min_samples_split=2, min_impurity_decrease=0.2, max_features=0.75\n",
      "Finished iteration for max_depth=10, min_samples_split=5, min_impurity_decrease=0, max_features=0.75\n",
      "Finished iteration for max_depth=10, min_samples_split=5, min_impurity_decrease=0.1, max_features=0.75\n",
      "Finished iteration for max_depth=10, min_samples_split=5, min_impurity_decrease=0.2, max_features=0.75\n",
      "Finished iteration for max_depth=10, min_samples_split=10, min_impurity_decrease=0, max_features=0.75\n",
      "Finished iteration for max_depth=10, min_samples_split=10, min_impurity_decrease=0.1, max_features=0.75\n",
      "Finished iteration for max_depth=10, min_samples_split=10, min_impurity_decrease=0.2, max_features=0.75\n",
      "Finished iteration for max_depth=20, min_samples_split=2, min_impurity_decrease=0, max_features=0.75\n",
      "Finished iteration for max_depth=20, min_samples_split=2, min_impurity_decrease=0.1, max_features=0.75\n",
      "Finished iteration for max_depth=20, min_samples_split=2, min_impurity_decrease=0.2, max_features=0.75\n",
      "Finished iteration for max_depth=20, min_samples_split=5, min_impurity_decrease=0, max_features=0.75\n",
      "Finished iteration for max_depth=20, min_samples_split=5, min_impurity_decrease=0.1, max_features=0.75\n",
      "Finished iteration for max_depth=20, min_samples_split=5, min_impurity_decrease=0.2, max_features=0.75\n",
      "Finished iteration for max_depth=20, min_samples_split=10, min_impurity_decrease=0, max_features=0.75\n",
      "Finished iteration for max_depth=20, min_samples_split=10, min_impurity_decrease=0.1, max_features=0.75\n",
      "Finished iteration for max_depth=20, min_samples_split=10, min_impurity_decrease=0.2, max_features=0.75\n",
      "Finished iteration for max_depth=30, min_samples_split=2, min_impurity_decrease=0, max_features=0.75\n",
      "Finished iteration for max_depth=30, min_samples_split=2, min_impurity_decrease=0.1, max_features=0.75\n",
      "Finished iteration for max_depth=30, min_samples_split=2, min_impurity_decrease=0.2, max_features=0.75\n",
      "Finished iteration for max_depth=30, min_samples_split=5, min_impurity_decrease=0, max_features=0.75\n",
      "Finished iteration for max_depth=30, min_samples_split=5, min_impurity_decrease=0.1, max_features=0.75\n",
      "Finished iteration for max_depth=30, min_samples_split=5, min_impurity_decrease=0.2, max_features=0.75\n",
      "Finished iteration for max_depth=30, min_samples_split=10, min_impurity_decrease=0, max_features=0.75\n",
      "Finished iteration for max_depth=30, min_samples_split=10, min_impurity_decrease=0.1, max_features=0.75\n",
      "Finished iteration for max_depth=30, min_samples_split=10, min_impurity_decrease=0.2, max_features=0.75\n",
      "Best Validation Score: 0.9228260869565217\n",
      "Best Parameters: {'max_depth': 10, 'min_samples_split': 5, 'min_impurity_decrease': 0, 'max_features': 42}\n",
      "Test Score: 0.9218241042345277\n"
     ]
    }
   ],
   "source": [
    "param_grid = {\n",
    "    'max_depth': [None, 10, 20, 30],\n",
    "    'min_samples_split': [2, 5, 10],\n",
    "    'min_impurity_decrease': [0, 0.1, 0.2],\n",
    "    'max_features': [None, 'sqrt', 'log2', 0.5, 0.75]\n",
    "}\n",
    "\n",
    "results = []\n",
    "best_score = 0\n",
    "best_params = {}\n",
    "\n",
    "\n",
    "def process_max_features(max_features, n_features):\n",
    "    if max_features is None:\n",
    "        max_features_val = None\n",
    "    elif isinstance(max_features, int):\n",
    "        max_features_val = max_features\n",
    "    elif isinstance(max_features, float):\n",
    "        # Fraction of features, ensure it's an integer\n",
    "        max_features_val = int(max_features * n_features)\n",
    "    elif max_features == 'sqrt':\n",
    "        max_features_val = int(np.sqrt(n_features))\n",
    "    elif max_features == 'log2':\n",
    "        max_features_val = int(np.log2(n_features))\n",
    "    else:\n",
    "        raise ValueError(\"max_features must be None, int, float, 'sqrt', or 'log2'.\")\n",
    "    return max_features_val\n",
    "\n",
    "\n",
    "# Iterate over all combinations of parameters\n",
    "for max_depth in param_grid['max_depth']:\n",
    "    for min_samples_split in param_grid['min_samples_split']:\n",
    "        for min_impurity_decrease in param_grid['min_impurity_decrease']:\n",
    "            for max_features in param_grid['max_features']:\n",
    "                # Convert max_features accordingly\n",
    "                n_features = X_train.shape[1]\n",
    "                max_features_val = process_max_features(max_features, n_features)\n",
    "                \n",
    "                # Initialize and fit the CART model\n",
    "                model = CART(max_depth=max_depth, \n",
    "                             min_samples_split=min_samples_split,\n",
    "                             min_impurity_decrease=min_impurity_decrease,\n",
    "                             max_features=max_features_val)\n",
    "                \n",
    "                model.fit(X_train, y_train)\n",
    "                \n",
    "                # Predict on the validation set and evaluate\n",
    "                predictions = model.predict(X_val)\n",
    "                score = accuracy_score(y_val, predictions)\n",
    "                \n",
    "                results.append({'max_depth': max_depth,\n",
    "                                'min_samples_split': min_samples_split,\n",
    "                                'min_impurity_decrease': min_impurity_decrease,\n",
    "                                'max_features': max_features,\n",
    "                                'score': score})\n",
    "                \n",
    "                if score > best_score:\n",
    "                    best_score = score\n",
    "                    best_params = {'max_depth': max_depth,\n",
    "                                   'min_samples_split': min_samples_split,\n",
    "                                   'min_impurity_decrease': min_impurity_decrease,\n",
    "                                   'max_features': max_features_val}\n",
    "            print(f\"Finished iteration for max_depth={max_depth}, min_samples_split={min_samples_split}, min_impurity_decrease={min_impurity_decrease}, max_features={max_features}\")\n",
    "\n",
    "print(f\"Best Validation Score: {best_score}\")\n",
    "print(\"Best Parameters:\", best_params)\n",
    "\n",
    "# After finding the best parameters, evaluate the model on the test set\n",
    "best_model = CART(**best_params)\n",
    "best_model.fit(X_train_val, y_train_val)  # Train on the full training dataset\n",
    "test_predictions = best_model.predict(X_test)\n",
    "test_score = accuracy_score(y_test, test_predictions)\n",
    "print(f\"Test Score: {test_score}\")\n"
   ]
  },
  {
   "cell_type": "code",
   "execution_count": 32,
   "metadata": {},
   "outputs": [
    {
     "data": {
      "text/plain": [
       "'../reports/baseline_models/cart_tree_custom_implementation.pdf'"
      ]
     },
     "execution_count": 32,
     "metadata": {},
     "output_type": "execute_result"
    }
   ],
   "source": [
    "# Get DOT data\n",
    "dot_data = best_model.export_graphviz(full_verbose=False, leaf_verbose=True)\n",
    "\n",
    "# Draw graph\n",
    "graph = Source(dot_data, format=\"pdf\", filename=\"cart_tree_custom_implementation\", directory=\"../reports/baseline_models/\")\n",
    "graph.render(view=True)"
   ]
  },
  {
   "cell_type": "markdown",
   "metadata": {},
   "source": [
    "### Using sklearn's DecisionTreeClassifier"
   ]
  },
  {
   "cell_type": "code",
   "execution_count": 33,
   "metadata": {},
   "outputs": [],
   "source": [
    "from sklearn.tree import DecisionTreeClassifier"
   ]
  },
  {
   "cell_type": "code",
   "execution_count": 40,
   "metadata": {},
   "outputs": [
    {
     "name": "stdout",
     "output_type": "stream",
     "text": [
      "Test Score (sklearn): 0.9196525515743756:2f\n"
     ]
    }
   ],
   "source": [
    "## Use sklearn's DecisionTreeClassifier to compare with our implementation\n",
    "sklearn_model = DecisionTreeClassifier(**best_params)\n",
    "sklearn_model.fit(X_train_val, y_train_val)\n",
    "sklearn_test_predictions = sklearn_model.predict(X_test)\n",
    "sklearn_test_score = accuracy_score(y_test, sklearn_test_predictions)\n",
    "print(f\"Test Score (sklearn): {sklearn_test_score}:2f\")"
   ]
  },
  {
   "cell_type": "code",
   "execution_count": 41,
   "metadata": {},
   "outputs": [
    {
     "data": {
      "text/plain": [
       "'../reports/baseline_models/sklearn_cart_tree.pdf'"
      ]
     },
     "execution_count": 41,
     "metadata": {},
     "output_type": "execute_result"
    }
   ],
   "source": [
    "from sklearn.tree import export_graphviz\n",
    "\n",
    "## Get DOT data\n",
    "dot_data = export_graphviz(sklearn_model, filled=True, rounded=True, special_characters=True, feature_names=np.arange(X_train_val.shape[1]), class_names=['0', '1'])\n",
    "\n",
    "## Draw graph\n",
    "graph = Source(dot_data, format=\"pdf\", filename=\"sklearn_cart_tree\", directory=\"../reports/baseline_models/\")\n",
    "graph.render(view=True)"
   ]
  },
  {
   "cell_type": "code",
   "execution_count": null,
   "metadata": {},
   "outputs": [],
   "source": []
  },
  {
   "cell_type": "code",
   "execution_count": null,
   "metadata": {},
   "outputs": [],
   "source": []
  },
  {
   "cell_type": "code",
   "execution_count": null,
   "metadata": {},
   "outputs": [],
   "source": []
  },
  {
   "cell_type": "code",
   "execution_count": null,
   "metadata": {},
   "outputs": [],
   "source": []
  },
  {
   "cell_type": "code",
   "execution_count": null,
   "metadata": {},
   "outputs": [],
   "source": []
  },
  {
   "cell_type": "code",
   "execution_count": null,
   "metadata": {},
   "outputs": [],
   "source": []
  }
 ],
 "metadata": {
  "kernelspec": {
   "display_name": "email_spam_classification",
   "language": "python",
   "name": "python3"
  },
  "language_info": {
   "codemirror_mode": {
    "name": "ipython",
    "version": 3
   },
   "file_extension": ".py",
   "mimetype": "text/x-python",
   "name": "python",
   "nbconvert_exporter": "python",
   "pygments_lexer": "ipython3",
   "version": "3.9.13"
  }
 },
 "nbformat": 4,
 "nbformat_minor": 2
}
