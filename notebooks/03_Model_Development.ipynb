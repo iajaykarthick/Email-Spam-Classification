{
 "cells": [
  {
   "cell_type": "code",
   "execution_count": 1,
   "metadata": {},
   "outputs": [],
   "source": [
    "%load_ext autoreload\n",
    "%autoreload 2"
   ]
  },
  {
   "cell_type": "code",
   "execution_count": 2,
   "metadata": {},
   "outputs": [],
   "source": [
    "# Data manipulation\n",
    "import numpy as np\n",
    "import pandas as pd\n",
    "\n",
    "# Visualization\n",
    "import matplotlib.pyplot as plt\n",
    "import seaborn as sns\n",
    "from graphviz import Source\n",
    "\n",
    "# Preprocessing\n",
    "from sklearn.model_selection import train_test_split\n",
    "\n",
    "# Evaluation\n",
    "from sklearn.metrics import accuracy_score\n",
    "\n",
    "# Models\n",
    "from src.models.cart import CART\n",
    "\n",
    "# Load dataset\n",
    "from src.data.load_dataset import load_spambase"
   ]
  },
  {
   "cell_type": "code",
   "execution_count": 3,
   "metadata": {},
   "outputs": [
    {
     "data": {
      "text/plain": [
       "((2760, 57), (920, 57), (921, 57))"
      ]
     },
     "execution_count": 3,
     "metadata": {},
     "output_type": "execute_result"
    }
   ],
   "source": [
    "X, y = load_spambase()\n",
    "# Split the dataset into training+validation and test sets\n",
    "X_train_val, X_test, y_train_val, y_test = train_test_split(X, y, test_size=0.2, stratify=y, random_state=42)\n",
    "\n",
    "# Further split the training data into training and validation sets\n",
    "X_train, X_val, y_train, y_val = train_test_split(X_train_val, y_train_val, test_size=0.25, stratify=y_train_val, random_state=42) # 0.25 x 0.8 = 0.2\n",
    "\n",
    "X_train.shape, X_val.shape, X_test.shape"
   ]
  },
  {
   "cell_type": "markdown",
   "metadata": {},
   "source": [
    "### Train the baseline CART model with raw features"
   ]
  },
  {
   "cell_type": "code",
   "execution_count": 4,
   "metadata": {},
   "outputs": [
    {
     "name": "stdout",
     "output_type": "stream",
     "text": [
      "Finished iteration for max_depth=None, min_samples_split=2, min_impurity_decrease=0, max_features=0.75\n",
      "Finished iteration for max_depth=None, min_samples_split=2, min_impurity_decrease=0.1, max_features=0.75\n",
      "Finished iteration for max_depth=None, min_samples_split=2, min_impurity_decrease=0.2, max_features=0.75\n",
      "Finished iteration for max_depth=None, min_samples_split=5, min_impurity_decrease=0, max_features=0.75\n",
      "Finished iteration for max_depth=None, min_samples_split=5, min_impurity_decrease=0.1, max_features=0.75\n",
      "Finished iteration for max_depth=None, min_samples_split=5, min_impurity_decrease=0.2, max_features=0.75\n",
      "Finished iteration for max_depth=None, min_samples_split=10, min_impurity_decrease=0, max_features=0.75\n",
      "Finished iteration for max_depth=None, min_samples_split=10, min_impurity_decrease=0.1, max_features=0.75\n",
      "Finished iteration for max_depth=None, min_samples_split=10, min_impurity_decrease=0.2, max_features=0.75\n",
      "Finished iteration for max_depth=10, min_samples_split=2, min_impurity_decrease=0, max_features=0.75\n",
      "Finished iteration for max_depth=10, min_samples_split=2, min_impurity_decrease=0.1, max_features=0.75\n",
      "Finished iteration for max_depth=10, min_samples_split=2, min_impurity_decrease=0.2, max_features=0.75\n",
      "Finished iteration for max_depth=10, min_samples_split=5, min_impurity_decrease=0, max_features=0.75\n",
      "Finished iteration for max_depth=10, min_samples_split=5, min_impurity_decrease=0.1, max_features=0.75\n",
      "Finished iteration for max_depth=10, min_samples_split=5, min_impurity_decrease=0.2, max_features=0.75\n",
      "Finished iteration for max_depth=10, min_samples_split=10, min_impurity_decrease=0, max_features=0.75\n",
      "Finished iteration for max_depth=10, min_samples_split=10, min_impurity_decrease=0.1, max_features=0.75\n",
      "Finished iteration for max_depth=10, min_samples_split=10, min_impurity_decrease=0.2, max_features=0.75\n",
      "Finished iteration for max_depth=20, min_samples_split=2, min_impurity_decrease=0, max_features=0.75\n",
      "Finished iteration for max_depth=20, min_samples_split=2, min_impurity_decrease=0.1, max_features=0.75\n",
      "Finished iteration for max_depth=20, min_samples_split=2, min_impurity_decrease=0.2, max_features=0.75\n",
      "Finished iteration for max_depth=20, min_samples_split=5, min_impurity_decrease=0, max_features=0.75\n",
      "Finished iteration for max_depth=20, min_samples_split=5, min_impurity_decrease=0.1, max_features=0.75\n",
      "Finished iteration for max_depth=20, min_samples_split=5, min_impurity_decrease=0.2, max_features=0.75\n",
      "Finished iteration for max_depth=20, min_samples_split=10, min_impurity_decrease=0, max_features=0.75\n",
      "Finished iteration for max_depth=20, min_samples_split=10, min_impurity_decrease=0.1, max_features=0.75\n",
      "Finished iteration for max_depth=20, min_samples_split=10, min_impurity_decrease=0.2, max_features=0.75\n",
      "Finished iteration for max_depth=30, min_samples_split=2, min_impurity_decrease=0, max_features=0.75\n",
      "Finished iteration for max_depth=30, min_samples_split=2, min_impurity_decrease=0.1, max_features=0.75\n",
      "Finished iteration for max_depth=30, min_samples_split=2, min_impurity_decrease=0.2, max_features=0.75\n",
      "Finished iteration for max_depth=30, min_samples_split=5, min_impurity_decrease=0, max_features=0.75\n",
      "Finished iteration for max_depth=30, min_samples_split=5, min_impurity_decrease=0.1, max_features=0.75\n",
      "Finished iteration for max_depth=30, min_samples_split=5, min_impurity_decrease=0.2, max_features=0.75\n",
      "Finished iteration for max_depth=30, min_samples_split=10, min_impurity_decrease=0, max_features=0.75\n",
      "Finished iteration for max_depth=30, min_samples_split=10, min_impurity_decrease=0.1, max_features=0.75\n",
      "Finished iteration for max_depth=30, min_samples_split=10, min_impurity_decrease=0.2, max_features=0.75\n",
      "Best Validation Score: 0.9184782608695652\n",
      "Best Parameters: {'max_depth': 10, 'min_samples_split': 2, 'min_impurity_decrease': 0, 'max_features': 42}\n",
      "Test Score: 0.9131378935939196\n"
     ]
    }
   ],
   "source": [
    "param_grid = {\n",
    "    'max_depth': [None, 10, 20, 30],\n",
    "    'min_samples_split': [2, 5, 10],\n",
    "    'min_impurity_decrease': [0, 0.1, 0.2],\n",
    "    'max_features': [None, 'sqrt', 'log2', 0.5, 0.75]\n",
    "}\n",
    "\n",
    "results = []\n",
    "best_score = 0\n",
    "best_params = {}\n",
    "\n",
    "\n",
    "def process_max_features(max_features, n_features):\n",
    "    if max_features is None:\n",
    "        max_features_val = None\n",
    "    elif isinstance(max_features, int):\n",
    "        max_features_val = max_features\n",
    "    elif isinstance(max_features, float):\n",
    "        # Fraction of features, ensure it's an integer\n",
    "        max_features_val = int(max_features * n_features)\n",
    "    elif max_features == 'sqrt':\n",
    "        max_features_val = int(np.sqrt(n_features))\n",
    "    elif max_features == 'log2':\n",
    "        max_features_val = int(np.log2(n_features))\n",
    "    else:\n",
    "        raise ValueError(\"max_features must be None, int, float, 'sqrt', or 'log2'.\")\n",
    "    return max_features_val\n",
    "\n",
    "\n",
    "# Iterate over all combinations of parameters\n",
    "for max_depth in param_grid['max_depth']:\n",
    "    for min_samples_split in param_grid['min_samples_split']:\n",
    "        for min_impurity_decrease in param_grid['min_impurity_decrease']:\n",
    "            for max_features in param_grid['max_features']:\n",
    "                # Convert max_features accordingly\n",
    "                n_features = X_train.shape[1]\n",
    "                max_features_val = process_max_features(max_features, n_features)\n",
    "                \n",
    "                # Initialize and fit the CART model\n",
    "                model = CART(max_depth=max_depth, \n",
    "                             min_samples_split=min_samples_split,\n",
    "                             min_impurity_decrease=min_impurity_decrease,\n",
    "                             max_features=max_features_val)\n",
    "                \n",
    "                model.fit(X_train, y_train)\n",
    "                \n",
    "                # Predict on the validation set and evaluate\n",
    "                y_pred_val = model.predict(X_val)\n",
    "                score = accuracy_score(y_val, y_pred_val)\n",
    "                \n",
    "                results.append({'max_depth': max_depth,\n",
    "                                'min_samples_split': min_samples_split,\n",
    "                                'min_impurity_decrease': min_impurity_decrease,\n",
    "                                'max_features': max_features,\n",
    "                                'score': score})\n",
    "                \n",
    "                if score > best_score:\n",
    "                    best_score = score\n",
    "                    best_params = {'max_depth': max_depth,\n",
    "                                   'min_samples_split': min_samples_split,\n",
    "                                   'min_impurity_decrease': min_impurity_decrease,\n",
    "                                   'max_features': max_features_val}\n",
    "            print(f\"Finished iteration for max_depth={max_depth}, min_samples_split={min_samples_split}, min_impurity_decrease={min_impurity_decrease}, max_features={max_features}\")\n",
    "\n",
    "print(f\"Best Validation Score: {best_score}\")\n",
    "print(\"Best Parameters:\", best_params)\n",
    "\n",
    "# After finding the best parameters, evaluate the model on the test set\n",
    "best_model = CART(**best_params)\n",
    "best_model.fit(X_train_val, y_train_val)  # Train on the full training dataset\n",
    "test_predictions = best_model.predict(X_test)\n",
    "test_score = accuracy_score(y_test, test_predictions)\n",
    "print(f\"Test Score: {test_score}\")\n"
   ]
  },
  {
   "cell_type": "code",
   "execution_count": 5,
   "metadata": {},
   "outputs": [
    {
     "data": {
      "text/plain": [
       "'../reports/baseline_models/cart_tree_custom_implementation.pdf'"
      ]
     },
     "execution_count": 5,
     "metadata": {},
     "output_type": "execute_result"
    }
   ],
   "source": [
    "# Get DOT data\n",
    "dot_data = best_model.export_graphviz(full_verbose=False, leaf_verbose=True)\n",
    "\n",
    "# Draw graph\n",
    "graph = Source(dot_data, format=\"pdf\", filename=\"cart_tree_custom_implementation\", directory=\"../reports/baseline_models/\")\n",
    "graph.render(view=True)"
   ]
  },
  {
   "cell_type": "code",
   "execution_count": 10,
   "metadata": {},
   "outputs": [],
   "source": [
    "import os\n",
    "import json\n",
    "\n",
    "from src.config import EXPERIMENT_DIR\n",
    "\n",
    "experiment_config = {\n",
    "    \"name\": \"custom_cart_v2\",\n",
    "    \"description\": \"Custom cart v2\",\n",
    "    \"model_class\": \"src.models.cart.CART\",\n",
    "    \"model_params\": best_params,\n",
    "    \"metrics\": [\n",
    "        \"accuracy\",\n",
    "        \"f1\",\n",
    "        \"roc_auc\"\n",
    "    ]\n",
    "}\n",
    "experiment_dir = os.path.join(EXPERIMENT_DIR, 'custom_cart_v2')\n",
    "os.makedirs(experiment_dir, exist_ok=True)\n",
    "exp_config_path = os.path.join(experiment_dir, 'config.json')\n",
    "with open(exp_config_path, 'w') as file:\n",
    "    json.dump(experiment_config, file, indent=4)    "
   ]
  },
  {
   "cell_type": "markdown",
   "metadata": {},
   "source": [
    "### Using sklearn's DecisionTreeClassifier"
   ]
  },
  {
   "cell_type": "code",
   "execution_count": 6,
   "metadata": {},
   "outputs": [],
   "source": [
    "from sklearn.tree import DecisionTreeClassifier"
   ]
  },
  {
   "cell_type": "code",
   "execution_count": 7,
   "metadata": {},
   "outputs": [
    {
     "name": "stdout",
     "output_type": "stream",
     "text": [
      "Test Score (sklearn): 0.9109663409337676:2f\n"
     ]
    }
   ],
   "source": [
    "## Use sklearn's DecisionTreeClassifier to compare with our implementation\n",
    "sklearn_model = DecisionTreeClassifier(**best_params)\n",
    "sklearn_model.fit(X_train_val, y_train_val)\n",
    "sklearn_test_predictions = sklearn_model.predict(X_test)\n",
    "sklearn_test_score = accuracy_score(y_test, sklearn_test_predictions)\n",
    "print(f\"Test Score (sklearn): {sklearn_test_score}:2f\")"
   ]
  },
  {
   "cell_type": "code",
   "execution_count": null,
   "metadata": {},
   "outputs": [],
   "source": []
  },
  {
   "cell_type": "code",
   "execution_count": 13,
   "metadata": {},
   "outputs": [
    {
     "data": {
      "text/plain": [
       "'../reports/baseline_models/sklearn_cart_tree.pdf'"
      ]
     },
     "execution_count": 13,
     "metadata": {},
     "output_type": "execute_result"
    }
   ],
   "source": [
    "from sklearn.tree import export_graphviz\n",
    "\n",
    "## Get DOT data\n",
    "dot_data = export_graphviz(sklearn_model, filled=True, rounded=True, special_characters=True, feature_names=np.arange(X_train_val.shape[1]), class_names=['0', '1'])\n",
    "\n",
    "## Draw graph\n",
    "graph = Source(dot_data, format=\"pdf\", filename=\"sklearn_cart_tree\", directory=\"../reports/baseline_models/\")\n",
    "graph.render(view=True)"
   ]
  },
  {
   "cell_type": "code",
   "execution_count": null,
   "metadata": {},
   "outputs": [],
   "source": []
  },
  {
   "cell_type": "code",
   "execution_count": 8,
   "metadata": {},
   "outputs": [],
   "source": [
    "import os\n",
    "import json\n",
    "\n",
    "from src.config import EXPERIMENT_DIR\n",
    "\n",
    "experiment_config = {\n",
    "    \"name\": \"sklearn_cart_w_best_params\",\n",
    "    \"description\": \"Sklearn cart with best parameters\",\n",
    "    \"model_class\": \"sklearn.tree.DecisionTreeClassifier\",\n",
    "    \"model_params\": best_params,\n",
    "    \"metrics\": [\n",
    "        \"accuracy\",\n",
    "        \"f1\",\n",
    "        \"roc_auc\"\n",
    "    ]\n",
    "}\n",
    "experiment_dir = os.path.join(EXPERIMENT_DIR, 'sklearn_cart_w_best_params')\n",
    "os.makedirs(experiment_dir, exist_ok=True)\n",
    "exp_config_path = os.path.join(experiment_dir, 'config.json')\n",
    "with open(exp_config_path, 'w') as file:\n",
    "    json.dump(experiment_config, file, indent=4)    "
   ]
  },
  {
   "cell_type": "code",
   "execution_count": 9,
   "metadata": {},
   "outputs": [],
   "source": [
    "### Using GridSearchCV to find the best parameters\n",
    "from sklearn.model_selection import GridSearchCV\n",
    "\n",
    "param_grid = {\n",
    "    'max_depth': [None, 10, 20, 30],\n",
    "    'min_samples_split': [2, 5, 10],\n",
    "    'min_impurity_decrease': [0, 0.1, 0.2],\n",
    "    'max_features': [None, 'sqrt', 'log2', 0.5, 0.75]\n",
    "}\n",
    "\n",
    "model = DecisionTreeClassifier()\n",
    "grid_search = GridSearchCV(model, param_grid, cv=5, scoring='accuracy')\n",
    "grid_search.fit(X_train_val, y_train_val)\n",
    "\n",
    "print(f\"Best Validation Score (sklearn): {grid_search.best_score_}\")"
   ]
  },
  {
   "cell_type": "code",
   "execution_count": 8,
   "metadata": {},
   "outputs": [],
   "source": [
    "### Random Forest Classifier\n",
    "from src.models.random_forest import RandomForestClassifier"
   ]
  },
  {
   "cell_type": "code",
   "execution_count": 9,
   "metadata": {},
   "outputs": [
    {
     "name": "stdout",
     "output_type": "stream",
     "text": [
      "Finished iteration for n_estimators=100\n",
      "Finished iteration for n_estimators=200\n",
      "Finished iteration for n_estimators=500\n"
     ]
    }
   ],
   "source": [
    "param_grid = {\n",
    "    'n_estimators': [100, 200, 500]\n",
    "}\n",
    "\n",
    "# let's try different n_estimators with our best parameters from the previous step and initialize Random Forest model\n",
    "\n",
    "results = []\n",
    "best_score = 0\n",
    "best_n_estimators = None\n",
    "\n",
    "for n_estimators in param_grid['n_estimators']:\n",
    "    model = RandomForestClassifier(n_estimators=n_estimators, **best_params)\n",
    "    model.fit(X_train, y_train)\n",
    "    predictions = model.predict(X_val)\n",
    "    score = accuracy_score(y_val, predictions)\n",
    "    results.append({'n_estimators': n_estimators, 'score': score})\n",
    "    if score > best_score:\n",
    "        best_score = score\n",
    "        best_n_estimators = n_estimators\n",
    "    print(f\"Finished iteration for n_estimators={n_estimators}\")"
   ]
  },
  {
   "cell_type": "code",
   "execution_count": 10,
   "metadata": {},
   "outputs": [
    {
     "name": "stdout",
     "output_type": "stream",
     "text": [
      "Test Score (Random Forest): 0.9283387622149837\n"
     ]
    }
   ],
   "source": [
    "random_forest_model = RandomForestClassifier(n_estimators=best_n_estimators, **best_params)\n",
    "random_forest_model.fit(X_train_val, y_train_val)\n",
    "\n",
    "test_predictions = random_forest_model.predict(X_test)\n",
    "test_score = accuracy_score(y_test, test_predictions)\n",
    "print(f\"Test Score (Random Forest): {test_score}\")"
   ]
  },
  {
   "cell_type": "markdown",
   "metadata": {},
   "source": [
    "### Sklearn's RandomForestClassifier"
   ]
  },
  {
   "cell_type": "code",
   "execution_count": 11,
   "metadata": {},
   "outputs": [],
   "source": [
    "from sklearn.ensemble import RandomForestClassifier as SklearnRandomForestClassifier"
   ]
  },
  {
   "cell_type": "code",
   "execution_count": 12,
   "metadata": {},
   "outputs": [
    {
     "name": "stdout",
     "output_type": "stream",
     "text": [
      "Test Score (sklearn Random Forest): 0.9315960912052117\n"
     ]
    }
   ],
   "source": [
    "sklearn_rf_model = SklearnRandomForestClassifier(n_estimators=best_n_estimators, **best_params)\n",
    "sklearn_rf_model.fit(X_train_val, y_train_val)\n",
    "\n",
    "sklearn_test_predictions = sklearn_rf_model.predict(X_test)\n",
    "sklearn_test_score = accuracy_score(y_test, sklearn_test_predictions)\n",
    "print(f\"Test Score (sklearn Random Forest): {sklearn_test_score}\")"
   ]
  },
  {
   "cell_type": "code",
   "execution_count": null,
   "metadata": {},
   "outputs": [],
   "source": []
  }
 ],
 "metadata": {
  "kernelspec": {
   "display_name": "email_spam_classification",
   "language": "python",
   "name": "python3"
  },
  "language_info": {
   "codemirror_mode": {
    "name": "ipython",
    "version": 3
   },
   "file_extension": ".py",
   "mimetype": "text/x-python",
   "name": "python",
   "nbconvert_exporter": "python",
   "pygments_lexer": "ipython3",
   "version": "3.9.13"
  }
 },
 "nbformat": 4,
 "nbformat_minor": 2
}
